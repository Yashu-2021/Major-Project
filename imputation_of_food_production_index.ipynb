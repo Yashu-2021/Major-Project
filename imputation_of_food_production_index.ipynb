{
  "nbformat": 4,
  "nbformat_minor": 0,
  "metadata": {
    "colab": {
      "provenance": []
    },
    "kernelspec": {
      "name": "python3",
      "display_name": "Python 3"
    },
    "language_info": {
      "name": "python"
    }
  },
  "cells": [
    {
      "cell_type": "code",
      "execution_count": 4,
      "metadata": {
        "colab": {
          "base_uri": "https://localhost:8080/"
        },
        "id": "kYNn6L4o9ZkB",
        "outputId": "99347c33-c70c-4ad0-82d1-0a2f2107311f"
      },
      "outputs": [
        {
          "output_type": "stream",
          "name": "stdout",
          "text": [
            "Number of unique country codes: 101\n"
          ]
        }
      ],
      "source": [
        "df = pd.read_csv('2ndnew_table_filled.csv')\n",
        "\n",
        "unique_country_codes = df['Country Code'].unique()\n",
        "\n",
        "# Get the number of unique country codes\n",
        "number_of_country_codes = len(unique_country_codes)\n",
        "\n",
        "# Print the result\n",
        "print(f\"Number of unique country codes: {number_of_country_codes}\")"
      ]
    },
    {
      "cell_type": "code",
      "source": [
        "df1 = pd.read_csv('food_production.csv')\n"
      ],
      "metadata": {
        "id": "3rN4ByWn9xGG"
      },
      "execution_count": 5,
      "outputs": []
    },
    {
      "cell_type": "code",
      "source": [
        "filtered_df1 = df1[df1['Country Code'].isin(unique_country_codes)]\n",
        "\n",
        "# Print the resulting DataFrame\n",
        "print(filtered_df1)"
      ],
      "metadata": {
        "colab": {
          "base_uri": "https://localhost:8080/"
        },
        "id": "PTYucTUl-iJG",
        "outputId": "0acdbc44-a3cc-4261-ddc0-ea0eaccf57d5"
      },
      "execution_count": 6,
      "outputs": [
        {
          "output_type": "stream",
          "name": "stdout",
          "text": [
            "             Country Name Country Code  \\\n",
            "0                   Aruba          ABW   \n",
            "2             Afghanistan          AFG   \n",
            "4                  Angola          AGO   \n",
            "5                 Albania          ALB   \n",
            "8    United Arab Emirates          ARE   \n",
            "..                    ...          ...   \n",
            "251         United States          USA   \n",
            "254         Venezuela, RB          VEN   \n",
            "257              Viet Nam          VNM   \n",
            "262           Yemen, Rep.          YEM   \n",
            "263          South Africa          ZAF   \n",
            "\n",
            "                              Indicator Name  Indicator Code  1960   1961  \\\n",
            "0    Food production index (2014-2016 = 100)  AG.PRD.FOOD.XD   NaN    NaN   \n",
            "2    Food production index (2014-2016 = 100)  AG.PRD.FOOD.XD   NaN  41.48   \n",
            "4    Food production index (2014-2016 = 100)  AG.PRD.FOOD.XD   NaN  14.65   \n",
            "5    Food production index (2014-2016 = 100)  AG.PRD.FOOD.XD   NaN  21.34   \n",
            "8    Food production index (2014-2016 = 100)  AG.PRD.FOOD.XD   NaN   4.59   \n",
            "..                                       ...             ...   ...    ...   \n",
            "251  Food production index (2014-2016 = 100)  AG.PRD.FOOD.XD   NaN  41.25   \n",
            "254  Food production index (2014-2016 = 100)  AG.PRD.FOOD.XD   NaN  24.39   \n",
            "257  Food production index (2014-2016 = 100)  AG.PRD.FOOD.XD   NaN  15.77   \n",
            "262  Food production index (2014-2016 = 100)  AG.PRD.FOOD.XD   NaN  20.94   \n",
            "263  Food production index (2014-2016 = 100)  AG.PRD.FOOD.XD   NaN  32.21   \n",
            "\n",
            "      1962   1963   1964   1965  ...    2013    2014    2015    2016    2017  \\\n",
            "0      NaN    NaN    NaN    NaN  ...     NaN     NaN     NaN     NaN     NaN   \n",
            "2    41.81  41.62  45.13  47.25  ...   94.29  101.67   95.99  102.34  100.02   \n",
            "4    15.18  15.52  16.24  16.77  ...  110.73   97.41  100.32  102.27  103.19   \n",
            "5    21.93  20.71  23.37  22.23  ...   95.62   96.82  100.07  103.11  103.90   \n",
            "8     4.66   4.81   5.00   5.11  ...   78.77   94.36   98.36  107.28  107.31   \n",
            "..     ...    ...    ...    ...  ...     ...     ...     ...     ...     ...   \n",
            "251  41.31  42.94  43.49  45.35  ...   95.81   98.13   97.01  104.86  101.96   \n",
            "254  25.01  26.44  28.54  30.42  ...  104.53  105.75  101.45   92.79   88.83   \n",
            "257  16.72  16.73  16.96  16.86  ...   95.90   98.67  100.73  100.60  101.67   \n",
            "262  21.21  21.75  22.18  22.37  ...  108.53  108.13   99.62   92.25   91.56   \n",
            "263  32.80  34.38  33.21  34.83  ...   97.40  102.95  100.99   96.06  105.85   \n",
            "\n",
            "       2018    2019    2020    2021  2022  \n",
            "0       NaN     NaN     NaN     NaN   NaN  \n",
            "2     96.07  112.55  118.09  113.74   NaN  \n",
            "4    105.59  107.53  112.60  114.59   NaN  \n",
            "5    106.08  104.11  105.77  103.44   NaN  \n",
            "8    111.43  114.48  118.28  124.71   NaN  \n",
            "..      ...     ...     ...     ...   ...  \n",
            "251  103.20   99.65  104.05  105.46   NaN  \n",
            "254   82.03   82.12   86.85   85.78   NaN  \n",
            "257  105.31  104.83  106.07  111.65   NaN  \n",
            "262   90.93  104.33  108.21  104.92   NaN  \n",
            "263  104.32  104.54  111.39  114.31   NaN  \n",
            "\n",
            "[101 rows x 67 columns]\n"
          ]
        }
      ]
    },
    {
      "cell_type": "code",
      "source": [
        "filtered_df1.to_csv('food_index.csv', index=False)"
      ],
      "metadata": {
        "id": "Sb_a72fDB7Jn"
      },
      "execution_count": 7,
      "outputs": []
    },
    {
      "cell_type": "code",
      "source": [
        "file_path = 'food_index.csv'\n",
        "df = pd.read_csv(file_path)\n",
        "\n",
        "# List of country codes for imputation\n",
        "impute_countries = ['AGO', 'BMU', 'FRO', 'GIB', 'GRL', 'LUX', 'MAC', 'NCL', 'SEN', 'YEM']\n",
        "\n",
        "# Replace missing values in 'ABW' rows with the mean of the corresponding values in impute_countries\n",
        "abw_rows = df[df['Country Code'] == 'ABW']\n",
        "for column in df.columns[4:]:\n",
        "    abw_mean = df[df['Country Code'].isin(impute_countries)][column].mean()\n",
        "    df.loc[df['Country Code'] == 'ABW', column] = abw_rows[column].fillna(abw_mean)\n",
        "\n",
        "# Save the updated DataFrame to a new CSV file\n",
        "df.to_csv('food_index_imputed.csv', index=False)"
      ],
      "metadata": {
        "id": "WUC9o6DtFTtu"
      },
      "execution_count": 13,
      "outputs": []
    },
    {
      "cell_type": "code",
      "source": [
        "file_path = 'food_index_imputed.csv'\n",
        "df1 = pd.read_csv(file_path)\n",
        "\n",
        "# List of country codes for imputation\n",
        "impute_countries = ['AFG', 'BEL', 'CAN', 'KWT', 'LBY', 'QAT', 'USA']\n",
        "\n",
        "# Replace missing values in 'ABW' rows with the mean of the corresponding values in impute_countries\n",
        "abw_rows = df1[df1['Country Code'] == 'BEL']\n",
        "for column in df1.columns[4:]:\n",
        "    abw_mean = df1[df1['Country Code'].isin(impute_countries)][column].mean()\n",
        "    df1.loc[df1['Country Code'] == 'BEL', column] = abw_rows[column].fillna(abw_mean)\n",
        "\n",
        "# Save the updated DataFrame to a new CSV file\n",
        "df1.to_csv('food_index_imputed2.csv', index=False)"
      ],
      "metadata": {
        "id": "mGZHW-CuFkNk"
      },
      "execution_count": 14,
      "outputs": []
    },
    {
      "cell_type": "code",
      "source": [
        "file_path = 'food_index_imputed2.csv'\n",
        "df2 = pd.read_csv(file_path)\n",
        "\n",
        "# List of country codes for imputation\n",
        "impute_countries = ['ABW', 'AGO', 'BMU', 'FRO', 'GIB', 'GRL', 'LUX', 'MAC', 'NCL', 'SEN', 'YEM']\n",
        "\n",
        "\n",
        "# Replace missing values in 'ABW' rows with the mean of the corresponding values in impute_countries\n",
        "abw_rows = df2[df2['Country Code'] == 'BMU']\n",
        "for column in df2.columns[4:]:\n",
        "    abw_mean = df2[df2['Country Code'].isin(impute_countries)][column].mean()\n",
        "    df2.loc[df2['Country Code'] == 'BMU', column] = abw_rows[column].fillna(abw_mean)\n",
        "\n",
        "# Save the updated DataFrame to a new CSV file\n",
        "df2.to_csv('food_index_imputed3.csv', index=False)"
      ],
      "metadata": {
        "id": "AS3gIV0fHghg"
      },
      "execution_count": 15,
      "outputs": []
    },
    {
      "cell_type": "code",
      "source": [
        "file_path = 'food_index_imputed3.csv'\n",
        "df3 = pd.read_csv(file_path)\n",
        "\n",
        "# List of country codes for imputation\n",
        "impute_countries = ['BGR', 'BHR', 'BOL', 'COG', 'CUB', 'CYM', 'DZA', 'EGY', 'FRA', 'GNQ', 'IRL', 'ITA', 'MAR', 'POL', 'PYF', 'ROU', 'RUS', 'SUR', 'TTO']\n",
        "\n",
        "\n",
        "\n",
        "# Replace missing values in 'ABW' rows with the mean of the corresponding values in impute_countries\n",
        "abw_rows = df3[df3['Country Code'] == 'CYM']\n",
        "for column in df3.columns[4:]:\n",
        "    abw_mean = df3[df3['Country Code'].isin(impute_countries)][column].mean()\n",
        "    df3.loc[df3['Country Code'] == 'CYM', column] = abw_rows[column].fillna(abw_mean)\n",
        "\n",
        "# Save the updated DataFrame to a new CSV file\n",
        "df3.to_csv('food_index_imputed4.csv', index=False)"
      ],
      "metadata": {
        "id": "uwzMoD-tISeK"
      },
      "execution_count": 16,
      "outputs": []
    },
    {
      "cell_type": "code",
      "source": [
        "file_path = 'food_index_imputed4.csv'\n",
        "df4 = pd.read_csv(file_path)\n",
        "\n",
        "# List of country codes for imputation\n",
        "impute_countries = ['ABW', 'AGO', 'BMU', 'FRO', 'GIB', 'GRL', 'LUX', 'MAC', 'NCL', 'SEN', 'YEM']\n",
        "\n",
        "\n",
        "\n",
        "\n",
        "# Replace missing values in 'ABW' rows with the mean of the corresponding values in impute_countries\n",
        "abw_rows = df4[df4['Country Code'] == 'GIB']\n",
        "for column in df4.columns[4:]:\n",
        "    abw_mean = df4[df4['Country Code'].isin(impute_countries)][column].mean()\n",
        "    df4.loc[df4['Country Code'] == 'GIB', column] = abw_rows[column].fillna(abw_mean)\n",
        "\n",
        "# Save the updated DataFrame to a new CSV file\n",
        "df4.to_csv('food_index_imputed5.csv', index=False)"
      ],
      "metadata": {
        "id": "Is6RdftQI1wK"
      },
      "execution_count": 19,
      "outputs": []
    },
    {
      "cell_type": "code",
      "source": [
        "file_path = 'food_index_imputed5.csv'\n",
        "df5 = pd.read_csv(file_path)\n",
        "\n",
        "# List of country codes for imputation\n",
        "impute_countries = ['ABW', 'AGO', 'BMU', 'FRO', 'GIB', 'GRL', 'LUX', 'MAC', 'NCL', 'SEN', 'YEM']\n",
        "\n",
        "\n",
        "\n",
        "\n",
        "# Replace missing values in 'ABW' rows with the mean of the corresponding values in impute_countries\n",
        "abw_rows = df5[df5['Country Code'] == 'GRL']\n",
        "for column in df5.columns[4:]:\n",
        "    abw_mean = df5[df5['Country Code'].isin(impute_countries)][column].mean()\n",
        "    df5.loc[df5['Country Code'] == 'GRL', column] = abw_rows[column].fillna(abw_mean)\n",
        "\n",
        "# Save the updated DataFrame to a new CSV file\n",
        "df5.to_csv('food_index_imputed6.csv', index=False)"
      ],
      "metadata": {
        "id": "m1FYg43dKMn5"
      },
      "execution_count": 20,
      "outputs": []
    },
    {
      "cell_type": "code",
      "source": [
        "file_path = 'food_index_imputed6.csv'\n",
        "df6 = pd.read_csv(file_path)\n",
        "\n",
        "# List of country codes for imputation\n",
        "impute_countries = ['ABW', 'AGO', 'BMU', 'FRO', 'GIB', 'GRL', 'LUX', 'MAC', 'NCL', 'SEN', 'YEM']\n",
        "\n",
        "\n",
        "\n",
        "\n",
        "# Replace missing values in 'ABW' rows with the mean of the corresponding values in impute_countries\n",
        "abw_rows = df6[df6['Country Code'] == 'LUX']\n",
        "for column in df5.columns[4:]:\n",
        "    abw_mean = df6[df6['Country Code'].isin(impute_countries)][column].mean()\n",
        "    df6.loc[df6['Country Code'] == 'LUX', column] = abw_rows[column].fillna(abw_mean)\n",
        "\n",
        "# Save the updated DataFrame to a new CSV file\n",
        "df6.to_csv('food_index_imputed7.csv', index=False)"
      ],
      "metadata": {
        "id": "tcyNq_J-Kmef"
      },
      "execution_count": 21,
      "outputs": []
    },
    {
      "cell_type": "code",
      "source": [
        "file_path = 'food_index_imputed7.csv'\n",
        "df7 = pd.read_csv(file_path)\n",
        "\n",
        "# List of country codes for imputation\n",
        "impute_countries = ['BGR', 'BHR', 'BOL', 'COG', 'CUB', 'CYM', 'DZA', 'EGY', 'FRA', 'GNQ', 'IRL', 'ITA', 'MAR', 'POL', 'PYF', 'ROU', 'RUS', 'SUR', 'TTO']\n",
        "\n",
        "\n",
        "\n",
        "\n",
        "# Replace missing values in 'ABW' rows with the mean of the corresponding values in impute_countries\n",
        "abw_rows = df7[df7['Country Code'] == 'RUS']\n",
        "for column in df7.columns[4:]:\n",
        "    abw_mean = df7[df7['Country Code'].isin(impute_countries)][column].mean()\n",
        "    df7.loc[df7['Country Code'] == 'RUS', column] = abw_rows[column].fillna(abw_mean)\n",
        "\n",
        "# Save the updated DataFrame to a new CSV file\n",
        "df7.to_csv('food_index_imputed8.csv', index=False)"
      ],
      "metadata": {
        "id": "6Z2n0vx2LZ8g"
      },
      "execution_count": 22,
      "outputs": []
    }
  ]
}